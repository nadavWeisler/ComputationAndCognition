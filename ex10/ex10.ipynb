{
 "cells": [
  {
   "cell_type": "code",
   "execution_count": 157,
   "metadata": {},
   "outputs": [],
   "source": [
    "import numpy as np\n",
    "import pandas as pd\n",
    "import matplotlib.pyplot as plt"
   ]
  },
  {
   "cell_type": "code",
   "execution_count": 158,
   "metadata": {},
   "outputs": [],
   "source": [
    "n = 0.001"
   ]
  },
  {
   "cell_type": "code",
   "execution_count": 159,
   "metadata": {},
   "outputs": [],
   "source": [
    "N = 30"
   ]
  },
  {
   "cell_type": "code",
   "execution_count": 160,
   "metadata": {},
   "outputs": [],
   "source": [
    "def get_init_w():\n",
    "    w = []\n",
    "    value = np.random.uniform(0, 1)\n",
    "    for _ in range(20):\n",
    "        w.append(value)\n",
    "    return w"
   ]
  },
  {
   "cell_type": "code",
   "execution_count": 161,
   "metadata": {},
   "outputs": [],
   "source": [
    "def create_p(w):\n",
    "    p = []\n",
    "    for item in w:\n",
    "        p.append(item / sum(w))\n",
    "    return p\n",
    "        "
   ]
  },
  {
   "cell_type": "code",
   "execution_count": 162,
   "metadata": {},
   "outputs": [],
   "source": [
    "def single_simulation(p):\n",
    "    choices = []\n",
    "    for _ in range(N):\n",
    "        choices.append(np.random.choice(np.arange(1, 21), p=p))\n",
    "    return choices"
   ]
  },
  {
   "cell_type": "code",
   "execution_count": 163,
   "metadata": {},
   "outputs": [],
   "source": [
    "def get_winning_number(choices):\n",
    "    choices_set = set(choices)\n",
    "    choices_set = sorted(choices_set, reverse=True)\n",
    "    lowest_number = -1\n",
    "    lowest_occ = 31\n",
    "    for number in choices_set:\n",
    "        if 0 < choices.count(number) and choices.count(number) < lowest_occ:\n",
    "            lowest_number = number\n",
    "            lowest_occ = choices.count(number)\n",
    "    return lowest_number"
   ]
  },
  {
   "cell_type": "code",
   "execution_count": 164,
   "metadata": {},
   "outputs": [],
   "source": [
    "def get_updated_w(w, choices):\n",
    "    winning_nuber = get_winning_number(choices)\n",
    "    new_w = []\n",
    "    for i in range(len(w)):\n",
    "        if i + 1 == winning_nuber:\n",
    "            new_w.append(w[i] + ((-n*w[i]) + n))\n",
    "        else:\n",
    "             new_w.append(w[i] + (-n*w[i]))\n",
    "    return new_w\n"
   ]
  },
  {
   "cell_type": "code",
   "execution_count": 165,
   "metadata": {},
   "outputs": [],
   "source": [
    "trial_count = 500000"
   ]
  },
  {
   "cell_type": "code",
   "execution_count": 166,
   "metadata": {},
   "outputs": [],
   "source": [
    "def learning_simulation(trial_count, init_w):\n",
    "    p_values = []\n",
    "    w = init_w\n",
    "    for _ in range(trial_count):\n",
    "        p = create_p(w)\n",
    "        p_values.append(p)\n",
    "        choices = single_simulation(p)\n",
    "        w = get_updated_w(w, choices)\n",
    "    return p_values, w\n"
   ]
  },
  {
   "cell_type": "code",
   "execution_count": 167,
   "metadata": {},
   "outputs": [],
   "source": [
    "p_values, w = learning_simulation(trial_count, get_init_w())"
   ]
  },
  {
   "cell_type": "code",
   "execution_count": 168,
   "metadata": {},
   "outputs": [],
   "source": [
    "def simulation(trial_count, w):\n",
    "    chosen = {1: 0, 2: 0, 3: 0, 4: 0, 5: 0, 6: 0, 7: 0, 8: 0, 9: 0, 10: 0,\n",
    "              11: 0, 12: 0, 13: 0, 14: 0, 15: 0, 16: 0, 17: 0, 18: 0, 19: 0, 20: 0}\n",
    "    winner = {1: 0, 2: 0, 3: 0, 4: 0, 5: 0, 6: 0, 7: 0, 8: 0, 9: 0, 10: 0,\n",
    "              11: 0, 12: 0, 13: 0, 14: 0, 15: 0, 16: 0, 17: 0, 18: 0, 19: 0, 20: 0}\n",
    "    for _ in range(trial_count):\n",
    "        p = create_p(w)\n",
    "        p_values.append(p)\n",
    "        choices = single_simulation(p)\n",
    "        for choice in choices:\n",
    "            chosen[choice] += 1\n",
    "        winner[get_winning_number(choices)] += 1\n",
    "    return chosen, winner\n"
   ]
  },
  {
   "cell_type": "code",
   "execution_count": 169,
   "metadata": {},
   "outputs": [],
   "source": [
    "chosen, winner = simulation(100000, w)"
   ]
  },
  {
   "cell_type": "code",
   "execution_count": 170,
   "metadata": {},
   "outputs": [
    {
     "data": {
      "text/html": [
       "<div>\n",
       "<style scoped>\n",
       "    .dataframe tbody tr th:only-of-type {\n",
       "        vertical-align: middle;\n",
       "    }\n",
       "\n",
       "    .dataframe tbody tr th {\n",
       "        vertical-align: top;\n",
       "    }\n",
       "\n",
       "    .dataframe thead th {\n",
       "        text-align: right;\n",
       "    }\n",
       "</style>\n",
       "<table border=\"1\" class=\"dataframe\">\n",
       "  <thead>\n",
       "    <tr style=\"text-align: right;\">\n",
       "      <th></th>\n",
       "      <th>1</th>\n",
       "      <th>2</th>\n",
       "      <th>3</th>\n",
       "      <th>4</th>\n",
       "      <th>5</th>\n",
       "      <th>6</th>\n",
       "      <th>7</th>\n",
       "      <th>8</th>\n",
       "      <th>9</th>\n",
       "      <th>10</th>\n",
       "      <th>11</th>\n",
       "      <th>12</th>\n",
       "      <th>13</th>\n",
       "      <th>14</th>\n",
       "      <th>15</th>\n",
       "      <th>16</th>\n",
       "      <th>17</th>\n",
       "      <th>18</th>\n",
       "      <th>19</th>\n",
       "      <th>20</th>\n",
       "    </tr>\n",
       "  </thead>\n",
       "  <tbody>\n",
       "    <tr>\n",
       "      <th>chosen</th>\n",
       "      <td>0</td>\n",
       "      <td>0</td>\n",
       "      <td>0</td>\n",
       "      <td>0</td>\n",
       "      <td>0</td>\n",
       "      <td>0</td>\n",
       "      <td>0</td>\n",
       "      <td>0</td>\n",
       "      <td>84926</td>\n",
       "      <td>123539</td>\n",
       "      <td>174817</td>\n",
       "      <td>211953</td>\n",
       "      <td>248539</td>\n",
       "      <td>249878</td>\n",
       "      <td>288423</td>\n",
       "      <td>286868</td>\n",
       "      <td>310962</td>\n",
       "      <td>329706</td>\n",
       "      <td>351659</td>\n",
       "      <td>338730</td>\n",
       "    </tr>\n",
       "    <tr>\n",
       "      <th>winner</th>\n",
       "      <td>0</td>\n",
       "      <td>0</td>\n",
       "      <td>0</td>\n",
       "      <td>0</td>\n",
       "      <td>0</td>\n",
       "      <td>0</td>\n",
       "      <td>0</td>\n",
       "      <td>0</td>\n",
       "      <td>2651</td>\n",
       "      <td>4569</td>\n",
       "      <td>6255</td>\n",
       "      <td>7185</td>\n",
       "      <td>7792</td>\n",
       "      <td>9522</td>\n",
       "      <td>9092</td>\n",
       "      <td>10811</td>\n",
       "      <td>10522</td>\n",
       "      <td>10355</td>\n",
       "      <td>9667</td>\n",
       "      <td>11579</td>\n",
       "    </tr>\n",
       "  </tbody>\n",
       "</table>\n",
       "</div>"
      ],
      "text/plain": [
       "        1   2   3   4   5   6   7   8      9       10      11      12      13  \\\n",
       "chosen   0   0   0   0   0   0   0   0  84926  123539  174817  211953  248539   \n",
       "winner   0   0   0   0   0   0   0   0   2651    4569    6255    7185    7792   \n",
       "\n",
       "            14      15      16      17      18      19      20  \n",
       "chosen  249878  288423  286868  310962  329706  351659  338730  \n",
       "winner    9522    9092   10811   10522   10355    9667   11579  "
      ]
     },
     "execution_count": 170,
     "metadata": {},
     "output_type": "execute_result"
    }
   ],
   "source": [
    "df = pd.DataFrame()\n",
    "df = pd.DataFrame([chosen, winner], index=['chosen', 'winner'])\n",
    "df.head()"
   ]
  },
  {
   "cell_type": "code",
   "execution_count": 187,
   "metadata": {},
   "outputs": [],
   "source": [
    "df = df.drop(columns=[1, 2, 3, 4, 5, 6, 7, 8], axis=1)\n",
    "df.head()"
   ]
  },
  {
   "cell_type": "code",
   "execution_count": 212,
   "metadata": {},
   "outputs": [
    {
     "data": {
      "image/png": "[encoded data removed]",
      "text/plain": [
       "<Figure size 720x1080 with 1 Axes>"
      ]
     },
     "metadata": {
      "needs_background": "light"
     },
     "output_type": "display_data"
    }
   ],
   "source": [
    "fig, ax = plt.subplots(figsize=(10, 15))\n",
    "plt.scatter(df.loc['chosen'], df.loc['winner'] , s=3)\n",
    "for i, txt in enumerate(df.columns):\n",
    "    ax.annotate(txt, (df.loc['chosen'].loc[i + 9], df.loc['winner'].loc[i + 9]))\n",
    "plt.savefig('ex10-occ-win.png')"
   ]
  },
  {
   "cell_type": "code",
   "execution_count": 172,
   "metadata": {},
   "outputs": [],
   "source": [
    "def get_p_value_by_index(index):\n",
    "    values = []\n",
    "    for item in p_values:\n",
    "        values.append(item[index])\n",
    "    return values"
   ]
  },
  {
   "cell_type": "code",
   "execution_count": 173,
   "metadata": {},
   "outputs": [],
   "source": [
    "values = get_p_value_by_index(-1)"
   ]
  },
  {
   "cell_type": "code",
   "execution_count": 174,
   "metadata": {},
   "outputs": [
    {
     "data": {
      "image/png": "[encoded data removed]",
      "text/plain": [
       "<Figure size 1080x1080 with 1 Axes>"
      ]
     },
     "metadata": {
      "needs_background": "light"
     },
     "output_type": "display_data"
    }
   ],
   "source": [
    "fig, ax = plt.subplots(figsize=(15, 15))\n",
    "plt.scatter(range(len(values)), values)\n",
    "plt.savefig('ex10_p_20.png')"
   ]
  },
  {
   "cell_type": "code",
   "execution_count": 175,
   "metadata": {},
   "outputs": [],
   "source": [
    "values_5 = get_p_value_by_index(4)"
   ]
  },
  {
   "cell_type": "code",
   "execution_count": 176,
   "metadata": {},
   "outputs": [
    {
     "data": {
      "image/png": "[encoded data removed]",
      "text/plain": [
       "<Figure size 1080x1080 with 1 Axes>"
      ]
     },
     "metadata": {
      "needs_background": "light"
     },
     "output_type": "display_data"
    }
   ],
   "source": [
    "fig, ax = plt.subplots(figsize=(15, 15))\n",
    "plt.scatter(range(len(values_5)), values_5)\n",
    "plt.savefig('ex10_p_5.png')"
   ]
  }
 ],
 "metadata": {
  "interpreter": {
   "hash": "5e49d1d782d0c81664cfef69a5a300da04b0c8dd1f7059897730ec0e8bf9da48"
  },
  "kernelspec": {
   "display_name": "Python 3.9.7 64-bit ('base': conda)",
   "language": "python",
   "name": "python3"
  },
  "language_info": {
   "codemirror_mode": {
    "name": "ipython",
    "version": 3
   },
   "file_extension": ".py",
   "mimetype": "text/x-python",
   "name": "python",
   "nbconvert_exporter": "python",
   "pygments_lexer": "ipython3",
   "version": "3.9.7"
  },
  "orig_nbformat": 4
 },
 "nbformat": 4,
 "nbformat_minor": 2
}
