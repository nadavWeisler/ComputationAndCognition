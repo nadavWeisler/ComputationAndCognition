{
 "cells": [
  {
   "cell_type": "code",
   "execution_count": 200,
   "metadata": {},
   "outputs": [],
   "source": [
    "import pandas as pd\n",
    "import matplotlib.pyplot as plt\n",
    "import numpy as np\n"
   ]
  },
  {
   "cell_type": "markdown",
   "metadata": {},
   "source": [
    "# Part B"
   ]
  },
  {
   "cell_type": "markdown",
   "metadata": {},
   "source": [
    "## Question 1"
   ]
  },
  {
   "cell_type": "code",
   "execution_count": 201,
   "metadata": {},
   "outputs": [],
   "source": [
    "cd = \"\"\n",
    "filename = \"quiz_3758.xlsx\"\n"
   ]
  },
  {
   "cell_type": "code",
   "execution_count": 202,
   "metadata": {},
   "outputs": [],
   "source": [
    "quiz_ans = pd.read_excel(cd + filename, engine='openpyxl')\n",
    "if 'Timestamp' in quiz_ans.columns:\n",
    "    print(\"yes\")\n",
    "    quiz_ans.drop(columns=['Timestamp'], inplace=True)\n",
    "\n",
    "if len(quiz_ans.columns) > 6:\n",
    "    print('You have more than six columns in your excel, not including timestamp')\n"
   ]
  },
  {
   "cell_type": "code",
   "execution_count": 203,
   "metadata": {},
   "outputs": [
    {
     "data": {
      "image/png": "[encoded data removed]",
      "text/plain": [
       "<Figure size 432x288 with 1 Axes>"
      ]
     },
     "metadata": {
      "needs_background": "light"
     },
     "output_type": "display_data"
    }
   ],
   "source": [
    "quiz_ans.plot.bar()\n",
    "plt.show()\n"
   ]
  },
  {
   "cell_type": "code",
   "execution_count": 217,
   "metadata": {},
   "outputs": [
    {
     "name": "stdout",
     "output_type": "stream",
     "text": [
      "quiz matrix: \n",
      " [[4 5 3 5 2 3]\n",
      " [4 2 5 3 3 3]\n",
      " [4 5 4 5 4 3]\n",
      " [4 4 5 3 5 4]\n",
      " [3 4 4 5 4 3]\n",
      " [3 5 4 5 4 3]\n",
      " [4 4 4 3 3 4]\n",
      " [4 2 4 5 5 2]\n",
      " [5 5 3 5 3 5]\n",
      " [3 5 4 5 4 3]]\n"
     ]
    }
   ],
   "source": [
    "quiz_matrix = quiz_ans.to_numpy()\n",
    "print('quiz matrix: \\n', quiz_matrix)\n",
    "\n"
   ]
  },
  {
   "cell_type": "markdown",
   "metadata": {},
   "source": [
    "## Question 2"
   ]
  },
  {
   "cell_type": "code",
   "execution_count": 216,
   "metadata": {},
   "outputs": [
    {
     "name": "stdout",
     "output_type": "stream",
     "text": [
      "participants_count: \n",
      " 10\n",
      "questions_count: \n",
      " 6\n"
     ]
    }
   ],
   "source": [
    "participants_count = len(quiz_matrix)\n",
    "questions_count = np.size(quiz_matrix[0])\n",
    "print('participants_count: \\n', participants_count)\n",
    "print('questions_count: \\n', questions_count)\n"
   ]
  },
  {
   "cell_type": "code",
   "execution_count": 206,
   "metadata": {},
   "outputs": [
    {
     "data": {
      "text/plain": [
       "array([[ 0.2,  0.9, -1. ,  0.6, -1.7, -0.3],\n",
       "       [ 0.2, -2.1,  1. , -1.4, -0.7, -0.3],\n",
       "       [ 0.2,  0.9,  0. ,  0.6,  0.3, -0.3],\n",
       "       [ 0.2, -0.1,  1. , -1.4,  1.3,  0.7],\n",
       "       [-0.8, -0.1,  0. ,  0.6,  0.3, -0.3],\n",
       "       [-0.8,  0.9,  0. ,  0.6,  0.3, -0.3],\n",
       "       [ 0.2, -0.1,  0. , -1.4, -0.7,  0.7],\n",
       "       [ 0.2, -2.1,  0. ,  0.6,  1.3, -1.3],\n",
       "       [ 1.2,  0.9, -1. ,  0.6, -0.7,  1.7],\n",
       "       [-0.8,  0.9,  0. ,  0.6,  0.3, -0.3]])"
      ]
     },
     "execution_count": 206,
     "metadata": {},
     "output_type": "execute_result"
    }
   ],
   "source": [
    "normelize_questions_matrix = np.zeros((participants_count, questions_count))\n",
    "\n",
    "for question_index in range(questions_count):\n",
    "    one_question = quiz_matrix[:, question_index]\n",
    "    question_mean = np.mean(one_question, axis=0)\n",
    "    normelize_questions_matrix[:,\n",
    "                               question_index] = one_question - question_mean\n",
    "\n",
    "print('normelize questions matrix: \\n', normelize_questions_matrix)\n"
   ]
  },
  {
   "cell_type": "markdown",
   "metadata": {},
   "source": [
    "## Question 3"
   ]
  },
  {
   "cell_type": "code",
   "execution_count": 207,
   "metadata": {},
   "outputs": [
    {
     "name": "stdout",
     "output_type": "stream",
     "text": [
      "covariance matrix: \n",
      " [[ 0.36 -0.08 -0.1  -0.12 -0.16  0.26]\n",
      " [-0.08  1.29 -0.4   0.46 -0.27  0.37]\n",
      " [-0.1  -0.4   0.4  -0.4   0.3  -0.1 ]\n",
      " [-0.12  0.46 -0.4   0.84  0.02 -0.22]\n",
      " [-0.16 -0.27  0.3   0.02  0.81 -0.21]\n",
      " [ 0.26  0.37 -0.1  -0.22 -0.21  0.61]]\n"
     ]
    }
   ],
   "source": [
    "covariance_matrix = (normelize_questions_matrix.T @ normelize_questions_matrix) / len(quiz_matrix)\n",
    "print('covariance matrix: \\n', covariance_matrix)\n"
   ]
  },
  {
   "cell_type": "markdown",
   "metadata": {},
   "source": [
    "## Question 4"
   ]
  },
  {
   "cell_type": "code",
   "execution_count": 208,
   "metadata": {},
   "outputs": [
    {
     "name": "stdout",
     "output_type": "stream",
     "text": [
      "eigenvalues: \n",
      " [1.94955586 1.17037574 0.68232442 0.40197669 0.07297539 0.0327919 ]\n",
      "eigenvectors: \n",
      " [[-0.02422039  0.35342079  0.16207262  0.63824934 -0.6415463   0.17115991]\n",
      " [-0.7487199  -0.03050599 -0.48233945 -0.26014015 -0.37159484 -0.00899646]\n",
      " [ 0.37090611  0.03617541 -0.33395772 -0.27925022 -0.14086903  0.80732117]\n",
      " [-0.39145548 -0.60582793  0.27402227  0.3496403   0.22637371  0.48078429]\n",
      " [ 0.31284246 -0.45573873 -0.65566254  0.44774518 -0.04930035 -0.24825828]\n",
      " [-0.2239481   0.54601209 -0.3529473   0.35250548  0.61385337  0.16146263]]\n"
     ]
    }
   ],
   "source": [
    "eigenvalues, eigenvectors = np.linalg.eig(covariance_matrix)\n",
    "eigenvalues, eigenvectors\n",
    "print('eigenvalues: \\n', eigenvalues)\n",
    "print('eigenvectors: \\n', eigenvectors)\n"
   ]
  },
  {
   "cell_type": "markdown",
   "metadata": {},
   "source": [
    "# Part 3"
   ]
  },
  {
   "cell_type": "markdown",
   "metadata": {},
   "source": [
    "## Question 1"
   ]
  },
  {
   "cell_type": "code",
   "execution_count": 209,
   "metadata": {},
   "outputs": [
    {
     "name": "stdout",
     "output_type": "stream",
     "text": [
      "eigenvalues sort reverse: \n",
      " [1.94955586 1.17037574 0.68232442 0.40197669 0.07297539 0.0327919 ]\n"
     ]
    }
   ],
   "source": [
    "eigenvalues_sort_reverse = np.flip(np.sort(eigenvalues))\n",
    "\n",
    "print('eigenvalues sort reverse: \\n', eigenvalues_sort_reverse)\n"
   ]
  },
  {
   "cell_type": "code",
   "execution_count": 210,
   "metadata": {},
   "outputs": [
    {
     "name": "stdout",
     "output_type": "stream",
     "text": [
      "explained variance list: \n",
      " [0.0, 0.4523331456800387, 0.7238820404463545, 0.8821939710290899, 0.975460024877151, 0.9923916695965822]\n"
     ]
    }
   ],
   "source": [
    "explained_variance_lst = []\n",
    "for index in range(np.size(eigenvalues_sort_reverse)):\n",
    "    variance_explained = sum(\n",
    "        eigenvalues_sort_reverse[:index]) / sum(eigenvalues_sort_reverse)\n",
    "    explained_variance_lst.append(variance_explained)\n",
    "\n",
    "print(\"explained variance list: \\n\", explained_variance_lst)\n",
    "\n"
   ]
  },
  {
   "cell_type": "code",
   "execution_count": 211,
   "metadata": {},
   "outputs": [
    {
     "data": {
      "image/png": "[encoded data removed]",
      "text/plain": [
       "<Figure size 432x288 with 1 Axes>"
      ]
     },
     "metadata": {
      "needs_background": "light"
     },
     "output_type": "display_data"
    }
   ],
   "source": [
    "plt.plot(range(np.size(eigenvalues_sort_reverse)), explained_variance_lst)\n",
    "plt.xlabel('Components number')\n",
    "plt.ylabel('Explained variance')\n",
    "plt.show()\n"
   ]
  },
  {
   "cell_type": "markdown",
   "metadata": {},
   "source": [
    "3 vectors for 50%\n",
    "4 vectors for 75%\n",
    "5 vectors for 95%\n",
    "\n",
    "המשמעות של נתונים אלו היא ש3 שאלות בלבד יכולות להסביר חצי מהשונות ו5 שאלות בשביל כמעט כל השונות."
   ]
  },
  {
   "cell_type": "markdown",
   "metadata": {},
   "source": [
    "## Question 2"
   ]
  },
  {
   "cell_type": "code",
   "execution_count": 212,
   "metadata": {},
   "outputs": [
    {
     "name": "stdout",
     "output_type": "stream",
     "text": [
      "reversed eigenvectors: \n",
      " [array([-0.02422039,  0.35342079,  0.16207262,  0.63824934, -0.6415463 ,\n",
      "        0.17115991]), array([-0.7487199 , -0.03050599, -0.48233945, -0.26014015, -0.37159484,\n",
      "       -0.00899646]), array([ 0.37090611,  0.03617541, -0.33395772, -0.27925022, -0.14086903,\n",
      "        0.80732117]), array([-0.39145548, -0.60582793,  0.27402227,  0.3496403 ,  0.22637371,\n",
      "        0.48078429]), array([ 0.31284246, -0.45573873, -0.65566254,  0.44774518, -0.04930035,\n",
      "       -0.24825828]), array([-0.2239481 ,  0.54601209, -0.3529473 ,  0.35250548,  0.61385337,\n",
      "        0.16146263])]\n"
     ]
    }
   ],
   "source": [
    "reversed_eigenvectors = []\n",
    "for single_eigenvalue in eigenvalues_sort_reverse:\n",
    "    for value_index in range(len(eigenvalues)):\n",
    "        if single_eigenvalue == eigenvalues[value_index]:\n",
    "            reversed_eigenvectors.append(eigenvectors[value_index])\n",
    "\n",
    "print(\"reversed eigenvectors: \\n\", reversed_eigenvectors)\n",
    "\n"
   ]
  },
  {
   "cell_type": "code",
   "execution_count": 213,
   "metadata": {},
   "outputs": [
    {
     "name": "stdout",
     "output_type": "stream",
     "text": [
      "strongest vecotor: \n",
      " [-0.02422039  0.35342079  0.16207262  0.63824934 -0.6415463   0.17115991]\n"
     ]
    }
   ],
   "source": [
    "strongest_vecotor = reversed_eigenvectors[0]\n",
    "print(\"strongest vecotor: \\n\", strongest_vecotor)\n"
   ]
  },
  {
   "cell_type": "markdown",
   "metadata": {},
   "source": [
    "וקטור עצמי זה מסביר את החלק הגדול ביותר בשונות, כל נקודה בוקטור מבטאת את המשקל של כל שאלה\n",
    "רכיבים אלו ניתנים להסבר ע\"י מעבר על הערכים וניתן לראות כי השונות בשאלות 4 ו5 היא באמת הגבוהה ביותר וכדומה\n",
    "השאלות המהוות חלק משמעותי בצירים החדשים הם ארבע וחמש, רשת תמיכה וסיפוק בעבודה, לדעתי כי השאלות האלו הן ספציפיות יותר מהשאר, ואולי זה מנגנון רפלקציה אחרת"
   ]
  },
  {
   "cell_type": "markdown",
   "metadata": {},
   "source": [
    "## Question 3"
   ]
  },
  {
   "cell_type": "code",
   "execution_count": 214,
   "metadata": {},
   "outputs": [
    {
     "name": "stdout",
     "output_type": "stream",
     "text": [
      "Strongest component: \n",
      " [-1.74911914  2.33460619 -0.7525281   1.23890322  0.02041218 -0.72830772\n",
      "  0.24231219  2.03042214 -1.90839326 -0.72830772]\n",
      "Weakest component: \n",
      " [-0.11911514  0.31268971  0.19168947 -0.04035713  0.02952602  0.02052956\n",
      " -0.35116174 -0.19104206  0.12671174  0.02052956]\n"
     ]
    }
   ],
   "source": [
    "strongest_component = normelize_questions_matrix@np.array(\n",
    "    reversed_eigenvectors)[:, 0]\n",
    "weakest_component = normelize_questions_matrix@np.array(reversed_eigenvectors)[\n",
    "    :, -1]\n",
    "print(\"Strongest component: \\n\", strongest_component)\n",
    "print(\"Weakest component: \\n\", weakest_component)\n"
   ]
  },
  {
   "cell_type": "code",
   "execution_count": 215,
   "metadata": {},
   "outputs": [
    {
     "data": {
      "image/png": "[encoded data removed]",
      "text/plain": [
       "<Figure size 432x288 with 1 Axes>"
      ]
     },
     "metadata": {
      "needs_background": "light"
     },
     "output_type": "display_data"
    }
   ],
   "source": [
    "plt.scatter(strongest_component, weakest_component)\n",
    "plt.xlim(min(min(strongest_component), min(weakest_component)) - 0.5,\n",
    "         max(max(strongest_component), max(weakest_component)) + 0.5)\n",
    "plt.ylim(min(min(strongest_component), min(weakest_component)) - 0.5,\n",
    "         max(max(strongest_component), max(weakest_component)) + 0.5)\n",
    "plt.xlabel('Strongest Component')\n",
    "plt.ylabel('Weakest Component')\n",
    "for index in range(len(strongest_component)):\n",
    "    plt.annotate(str(index + 1),\n",
    "                 (strongest_component[index], weakest_component[index]))\n",
    "plt.show()\n"
   ]
  },
  {
   "cell_type": "markdown",
   "metadata": {},
   "source": [
    "ניתן להסביר את ההבדל בין הרכיבים ע\"י הפיזור של נקודות על שני הצירים\n",
    "המשמעות של הרכיב הכי חלש הוא המימד שמסביר הכי פחות שונות מכולם"
   ]
  },
  {
   "cell_type": "markdown",
   "metadata": {},
   "source": [
    "## Question 4"
   ]
  },
  {
   "cell_type": "markdown",
   "metadata": {},
   "source": [
    "ניתן להסיק כי כי שאלות 4 ו5 מנבאות את רב השונות ושאלה 1 בקושי השפיעה\n",
    "אם הייתי צריך לשאול רק שאלה אחת שתנבא בצורה הכי טובה הייתי שואל בצורה הבאה:\n",
    "\n",
    "(Question 4 and !Question5) or (Question5 and !Question4)\n",
    "וכך הייתי מוציא את הערך המיטבי לניסוי"
   ]
  }
 ],
 "metadata": {
  "interpreter": {
   "hash": "5e49d1d782d0c81664cfef69a5a300da04b0c8dd1f7059897730ec0e8bf9da48"
  },
  "kernelspec": {
   "display_name": "Python 3.9.7 64-bit ('base': conda)",
   "language": "python",
   "name": "python3"
  },
  "language_info": {
   "codemirror_mode": {
    "name": "ipython",
    "version": 3
   },
   "file_extension": ".py",
   "mimetype": "text/x-python",
   "name": "python",
   "nbconvert_exporter": "python",
   "pygments_lexer": "ipython3",
   "version": "3.9.7"
  },
  "orig_nbformat": 4
 },
 "nbformat": 4,
 "nbformat_minor": 2
}
