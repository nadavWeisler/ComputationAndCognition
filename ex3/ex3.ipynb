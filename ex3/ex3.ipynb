{
 "cells": [
  {
   "cell_type": "code",
   "execution_count": 465,
   "metadata": {},
   "outputs": [],
   "source": [
    "import pandas as pd\n",
    "import numpy as np\n",
    "import matplotlib.pyplot as plt"
   ]
  },
  {
   "cell_type": "markdown",
   "metadata": {},
   "source": [
    "# Question 1"
   ]
  },
  {
   "cell_type": "markdown",
   "metadata": {},
   "source": [
    "## Section 1"
   ]
  },
  {
   "cell_type": "code",
   "execution_count": 466,
   "metadata": {},
   "outputs": [],
   "source": [
    "def get_target(vector):\n",
    "    return 1 + vector + vector**2 + vector**3\n"
   ]
  },
  {
   "cell_type": "code",
   "execution_count": 467,
   "metadata": {},
   "outputs": [],
   "source": [
    "domain = np.arange(start=-5.0, stop=5.0, step=0.01)\n",
    "image = get_target(domain)"
   ]
  },
  {
   "cell_type": "code",
   "execution_count": 468,
   "metadata": {},
   "outputs": [],
   "source": [
    "P = 500\n",
    "x = np.random.uniform(low=-5.0, high=5.0, size=P)\n",
    "x_by_input = np.row_stack((np.repeat(1, P), x))\n",
    "y = get_target(x)\n"
   ]
  },
  {
   "cell_type": "code",
   "execution_count": 469,
   "metadata": {},
   "outputs": [],
   "source": [
    "def get_weights_by_inverse_correlation_matrix(x, y):\n",
    "    C = (x @ x.T) / x.shape[1]\n",
    "    C_inverse = np.linalg.inv(C)\n",
    "    u = (y.T @ x.T) / x.shape[1]\n",
    "    w = C_inverse @ u\n",
    "    return w\n"
   ]
  },
  {
   "cell_type": "code",
   "execution_count": 470,
   "metadata": {},
   "outputs": [
    {
     "data": {
      "image/png": "[encoded data removed]",
      "text/plain": [
       "<Figure size 432x288 with 1 Axes>"
      ]
     },
     "metadata": {
      "needs_background": "light"
     },
     "output_type": "display_data"
    }
   ],
   "source": [
    "w = get_weights_by_inverse_correlation_matrix(x=x_by_input, y=y)\n",
    "y_avarage = x_by_input.T @ w\n",
    "\n",
    "plt.plot(domain, image, label=\"target function\")\n",
    "plt.plot(x, y_avarage, label=\"perceptron\")\n",
    "plt.legend()\n",
    "plt.title(\"Target function vs. Linear Perceptron output\")\n",
    "plt.xlabel(\"x\")\n",
    "plt.ylabel(\"y\")\n",
    "plt.show()\n"
   ]
  },
  {
   "cell_type": "markdown",
   "metadata": {},
   "source": [
    "## Section 2"
   ]
  },
  {
   "cell_type": "code",
   "execution_count": 471,
   "metadata": {},
   "outputs": [],
   "source": [
    "def get_train_error(P, y, y_avarage):\n",
    "    train_error = (1 / (2 * P)) * np.sum((y_avarage - y)**2)\n",
    "    return train_error\n"
   ]
  },
  {
   "cell_type": "code",
   "execution_count": 472,
   "metadata": {},
   "outputs": [],
   "source": [
    "def get_generalizaion_error(w):\n",
    "    y_general = np.row_stack((np.repeat(1, domain.shape[0]), domain)).T @ w\n",
    "    generalizaion_error = (1 / (2 * domain.shape[0])) * np.sum((image - y_general)**2)\n",
    "    return generalizaion_error\n"
   ]
  },
  {
   "cell_type": "code",
   "execution_count": 473,
   "metadata": {},
   "outputs": [
    {
     "name": "stdout",
     "output_type": "stream",
     "text": [
      "Training Error\n",
      "197.47693209777185\n",
      "Generalization Error\n",
      "206.05797278221203\n"
     ]
    }
   ],
   "source": [
    "print(\"Training Error\")\n",
    "print(get_train_error(P, y, y_avarage))\n",
    "print(\"Generalization Error\")\n",
    "print(get_generalizaion_error(w))\n"
   ]
  },
  {
   "cell_type": "markdown",
   "metadata": {},
   "source": [
    "# Question 2"
   ]
  },
  {
   "cell_type": "code",
   "execution_count": 474,
   "metadata": {},
   "outputs": [],
   "source": [
    "def learning_simulation(p, iterations=100):\n",
    "    train_errors = np.zeros(iterations)\n",
    "    generalizaion_errors = np.zeros(iterations)\n",
    "    for i in range(iterations):\n",
    "        x = np.random.uniform(low=-5.0, high=5.0, size=p)\n",
    "        x_by_input = np.row_stack((np.repeat(1, p), x))\n",
    "        y = get_target(x)\n",
    "        w = get_weights_by_inverse_correlation_matrix(x=x_by_input, y=y)\n",
    "        y_avarage = x_by_input.T @ w\n",
    "        train_errors[i] = get_train_error(p, y, y_avarage)\n",
    "        generalizaion_errors[i] = get_generalizaion_error(w)\n",
    "    return np.mean(train_errors), np.mean(generalizaion_errors)\n"
   ]
  },
  {
   "cell_type": "code",
   "execution_count": 475,
   "metadata": {},
   "outputs": [
    {
     "data": {
      "text/html": [
       "<div>\n",
       "<style scoped>\n",
       "    .dataframe tbody tr th:only-of-type {\n",
       "        vertical-align: middle;\n",
       "    }\n",
       "\n",
       "    .dataframe tbody tr th {\n",
       "        vertical-align: top;\n",
       "    }\n",
       "\n",
       "    .dataframe thead th {\n",
       "        text-align: right;\n",
       "    }\n",
       "</style>\n",
       "<table border=\"1\" class=\"dataframe\">\n",
       "  <thead>\n",
       "    <tr style=\"text-align: right;\">\n",
       "      <th></th>\n",
       "      <th>P</th>\n",
       "      <th>training</th>\n",
       "      <th>generalizaion</th>\n",
       "    </tr>\n",
       "  </thead>\n",
       "  <tbody>\n",
       "    <tr>\n",
       "      <th>0</th>\n",
       "      <td>5</td>\n",
       "      <td>96.757947</td>\n",
       "      <td>428.732312</td>\n",
       "    </tr>\n",
       "    <tr>\n",
       "      <th>1</th>\n",
       "      <td>10</td>\n",
       "      <td>149.851269</td>\n",
       "      <td>275.332790</td>\n",
       "    </tr>\n",
       "    <tr>\n",
       "      <th>2</th>\n",
       "      <td>15</td>\n",
       "      <td>166.842768</td>\n",
       "      <td>247.771589</td>\n",
       "    </tr>\n",
       "    <tr>\n",
       "      <th>3</th>\n",
       "      <td>20</td>\n",
       "      <td>174.487571</td>\n",
       "      <td>229.130617</td>\n",
       "    </tr>\n",
       "    <tr>\n",
       "      <th>4</th>\n",
       "      <td>25</td>\n",
       "      <td>184.027434</td>\n",
       "      <td>227.350020</td>\n",
       "    </tr>\n",
       "  </tbody>\n",
       "</table>\n",
       "</div>"
      ],
      "text/plain": [
       "    P    training  generalizaion\n",
       "0   5   96.757947     428.732312\n",
       "1  10  149.851269     275.332790\n",
       "2  15  166.842768     247.771589\n",
       "3  20  174.487571     229.130617\n",
       "4  25  184.027434     227.350020"
      ]
     },
     "execution_count": 475,
     "metadata": {},
     "output_type": "execute_result"
    }
   ],
   "source": [
    "P = pd.Series(np.arange(5, 101, step=5), name=\"P\")\n",
    "results = pd.DataFrame.from_records(P.apply(lambda p: learning_simulation(p)), columns=[\n",
    "                                    \"training\", \"generalizaion\"])\n",
    "experiment = pd.concat([P, results], axis=1)\n",
    "experiment.head()\n"
   ]
  },
  {
   "cell_type": "code",
   "execution_count": 476,
   "metadata": {},
   "outputs": [
    {
     "data": {
      "image/png": "[encoded data removed]",
      "text/plain": [
       "<Figure size 432x288 with 1 Axes>"
      ]
     },
     "metadata": {
      "needs_background": "light"
     },
     "output_type": "display_data"
    }
   ],
   "source": [
    "experiment.plot(x=\"P\")\n",
    "plt.title(\"Training and Generalization Error for Number of Inputs\")\n",
    "plt.ylabel(\"Error\")\n",
    "plt.show()"
   ]
  },
  {
   "cell_type": "markdown",
   "metadata": {},
   "source": [
    "# Question 3"
   ]
  },
  {
   "cell_type": "code",
   "execution_count": 477,
   "metadata": {},
   "outputs": [],
   "source": [
    "def batch_gradient_learning(w, eta, x, y):\n",
    "    gradient = np.mean(\n",
    "        np.array([x[0, :] * (x.T @ w - y),  x[1, :] * (x.T @ w - y)]), axis=1)\n",
    "    return w - (eta * gradient)\n"
   ]
  },
  {
   "cell_type": "code",
   "execution_count": 478,
   "metadata": {},
   "outputs": [],
   "source": [
    "def online_gradient_learning(w, eta, x, y):\n",
    "    gradient = (x.T @ w - y) * x\n",
    "    return w - (eta * gradient)\n"
   ]
  },
  {
   "cell_type": "code",
   "execution_count": 479,
   "metadata": {},
   "outputs": [],
   "source": [
    "P = 100\n",
    "eta = 0.01\n",
    "x = np.random.uniform(low=-5.0, high=5.0, size=P)\n",
    "x_by_input = np.row_stack((np.repeat(1, P), x))\n",
    "y = get_target(x)"
   ]
  },
  {
   "cell_type": "code",
   "execution_count": 480,
   "metadata": {},
   "outputs": [],
   "source": [
    "batch_train_errors = np.zeros(P)\n",
    "batch_generalizaion_errors = np.zeros(P)\n",
    "w = np.array([1, 1])\n",
    "\n",
    "for i in range(100):\n",
    "    w = batch_gradient_learning(w, eta, x_by_input, y)\n",
    "    y_avarage = x_by_input.T @ w\n",
    "    batch_train_errors[i] = get_train_error(P, y, y_avarage)\n",
    "    batch_generalizaion_errors[i] = get_generalizaion_error(w)\n"
   ]
  },
  {
   "cell_type": "code",
   "execution_count": 481,
   "metadata": {},
   "outputs": [],
   "source": [
    "online_training_errors = np.zeros(P)\n",
    "online_generalizaion_errors = np.zeros(P)\n",
    "w = np.array([1, 1])\n",
    "\n",
    "for i, col in enumerate(np.random.choice(x_by_input.shape[1], size=P, replace=False)):\n",
    "    x = x_by_input[:, col]\n",
    "    label = y[col]\n",
    "    w = online_gradient_learning(w, eta, x, label)\n",
    "    y_avarage = x_by_input.T @ w\n",
    "    online_training_errors[i] = get_train_error(P, y, y_avarage)\n",
    "    online_generalizaion_errors[i] = get_generalizaion_error(w)\n"
   ]
  },
  {
   "cell_type": "code",
   "execution_count": 482,
   "metadata": {},
   "outputs": [],
   "source": [
    "w = get_weights_by_inverse_correlation_matrix(x_by_input, y)\n",
    "y_avarage = x_by_input.T @ w\n",
    "correlation_training_error = get_train_error(P, y, y_avarage)\n",
    "correlation_generalizaion_error = get_generalizaion_error(w)"
   ]
  },
  {
   "cell_type": "code",
   "execution_count": 483,
   "metadata": {},
   "outputs": [
    {
     "data": {
      "text/html": [
       "<div>\n",
       "<style scoped>\n",
       "    .dataframe tbody tr th:only-of-type {\n",
       "        vertical-align: middle;\n",
       "    }\n",
       "\n",
       "    .dataframe tbody tr th {\n",
       "        vertical-align: top;\n",
       "    }\n",
       "\n",
       "    .dataframe thead th {\n",
       "        text-align: right;\n",
       "    }\n",
       "</style>\n",
       "<table border=\"1\" class=\"dataframe\">\n",
       "  <thead>\n",
       "    <tr style=\"text-align: right;\">\n",
       "      <th></th>\n",
       "      <th>batch training error</th>\n",
       "      <th>batch generalization error</th>\n",
       "      <th>online training error</th>\n",
       "      <th>online generalization error</th>\n",
       "      <th>correlation inverse training error</th>\n",
       "      <th>correlation inverse generalization error</th>\n",
       "    </tr>\n",
       "  </thead>\n",
       "  <tbody>\n",
       "    <tr>\n",
       "      <th>0</th>\n",
       "      <td>1140.955605</td>\n",
       "      <td>1017.825350</td>\n",
       "      <td>1305.383490</td>\n",
       "      <td>1173.664816</td>\n",
       "      <td>228.180076</td>\n",
       "      <td>208.446396</td>\n",
       "    </tr>\n",
       "    <tr>\n",
       "      <th>1</th>\n",
       "      <td>1001.163278</td>\n",
       "      <td>885.952645</td>\n",
       "      <td>1299.699005</td>\n",
       "      <td>1168.387957</td>\n",
       "      <td>228.180076</td>\n",
       "      <td>208.446396</td>\n",
       "    </tr>\n",
       "    <tr>\n",
       "      <th>2</th>\n",
       "      <td>883.691332</td>\n",
       "      <td>775.660254</td>\n",
       "      <td>1206.081001</td>\n",
       "      <td>1078.402320</td>\n",
       "      <td>228.180076</td>\n",
       "      <td>208.446396</td>\n",
       "    </tr>\n",
       "    <tr>\n",
       "      <th>3</th>\n",
       "      <td>784.956971</td>\n",
       "      <td>683.440300</td>\n",
       "      <td>1203.228805</td>\n",
       "      <td>1075.768434</td>\n",
       "      <td>228.180076</td>\n",
       "      <td>208.446396</td>\n",
       "    </tr>\n",
       "    <tr>\n",
       "      <th>4</th>\n",
       "      <td>701.952877</td>\n",
       "      <td>606.352150</td>\n",
       "      <td>1180.682216</td>\n",
       "      <td>1054.065031</td>\n",
       "      <td>228.180076</td>\n",
       "      <td>208.446396</td>\n",
       "    </tr>\n",
       "  </tbody>\n",
       "</table>\n",
       "</div>"
      ],
      "text/plain": [
       "   batch training error  batch generalization error  online training error  \\\n",
       "0           1140.955605                 1017.825350            1305.383490   \n",
       "1           1001.163278                  885.952645            1299.699005   \n",
       "2            883.691332                  775.660254            1206.081001   \n",
       "3            784.956971                  683.440300            1203.228805   \n",
       "4            701.952877                  606.352150            1180.682216   \n",
       "\n",
       "   online generalization error  correlation inverse training error  \\\n",
       "0                  1173.664816                          228.180076   \n",
       "1                  1168.387957                          228.180076   \n",
       "2                  1078.402320                          228.180076   \n",
       "3                  1075.768434                          228.180076   \n",
       "4                  1054.065031                          228.180076   \n",
       "\n",
       "   correlation inverse generalization error  \n",
       "0                                208.446396  \n",
       "1                                208.446396  \n",
       "2                                208.446396  \n",
       "3                                208.446396  \n",
       "4                                208.446396  "
      ]
     },
     "execution_count": 483,
     "metadata": {},
     "output_type": "execute_result"
    }
   ],
   "source": [
    "results = pd.DataFrame({\n",
    "    \"batch training error\": batch_train_errors,\n",
    "    \"batch generalization error\": batch_generalizaion_errors,\n",
    "    \"online training error\": online_training_errors,\n",
    "    \"online generalization error\": online_generalizaion_errors,\n",
    "    \"correlation inverse training error\": np.repeat(correlation_training_error, P),\n",
    "    \"correlation inverse generalization error\": np.repeat(correlation_generalizaion_error, P)\n",
    "}, index=np.arange(100))\n",
    "results.head()\n"
   ]
  },
  {
   "cell_type": "markdown",
   "metadata": {},
   "source": [
    "# Question 4"
   ]
  },
  {
   "cell_type": "code",
   "execution_count": 484,
   "metadata": {},
   "outputs": [
    {
     "data": {
      "image/png": "[encoded data removed]",
      "text/plain": [
       "<Figure size 432x288 with 1 Axes>"
      ]
     },
     "metadata": {
      "needs_background": "light"
     },
     "output_type": "display_data"
    }
   ],
   "source": [
    "results.plot()\n",
    "plt.title(\"Error Comparison of Three Learning Algorithms as a Function of Their Update Steps\")\n",
    "plt.xlabel(\"Update steps\")\n",
    "plt.ylabel(\"Error\")\n",
    "plt.show()\n"
   ]
  },
  {
   "cell_type": "markdown",
   "metadata": {},
   "source": [
    "הפונקצייה של היפוך מטריצת הקורלציה היא היציבה ביותר, אפשר להסביר זאת כי זאת פונקציה לא איטרטיבית. בנוסף, הפונקצייה הזאת מגיעה לתוצאות הטובות ביותר, זאת מכיוון שאנו מחשבים את המשקולות מראש, זאת בניגוד לאלגוריתמים האחרים.\n",
    "\n",
    "באלגוריתם באטצ' אנו מאתחלים את האלגוריתם במשקולות רנדומיות, ולכן ישנה שגיאה גדולה בתחילת בהתחלה. בנוסף ניתן לראת כי כל עדכון מקרב אותנו לנקודת המינימום הגדולבלים בה השגיאה בריבוע היא הקטנה ביותר. אפשר להסביר את זה בגלל שהפונקציה קמורה בגלל קצב הלימוד הנמוך.\n",
    "\n",
    "העיקרון העיקרי נשמע גם בפונקציית אונליין, אך השוני הוא שבמקום למזער את כל פונציית שגיאות האימון, אנו ממזערים רק את השגיאה בדוגמה אקראית. \n",
    "הבדל זה מבייוצר שונות גדולה בהרבה של פונקציית השגיאה בהשוואה לבאטצ'"
   ]
  }
 ],
 "metadata": {
  "interpreter": {
   "hash": "e1d8f68dd8af76b1ccce98fbd8a519354b8e2a1a9ae7a48b9cebd977919fd0e5"
  },
  "kernelspec": {
   "display_name": "Python 3.9.2 64-bit",
   "language": "python",
   "name": "python3"
  },
  "language_info": {
   "codemirror_mode": {
    "name": "ipython",
    "version": 3
   },
   "file_extension": ".py",
   "mimetype": "text/x-python",
   "name": "python",
   "nbconvert_exporter": "python",
   "pygments_lexer": "ipython3",
   "version": "3.9.2"
  },
  "orig_nbformat": 4
 },
 "nbformat": 4,
 "nbformat_minor": 2
}
